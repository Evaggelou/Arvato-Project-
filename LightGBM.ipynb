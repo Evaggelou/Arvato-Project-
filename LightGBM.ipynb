{
  "nbformat": 4,
  "nbformat_minor": 0,
  "metadata": {
    "colab": {
      "name": "LightGBM.ipynb",
      "provenance": [],
      "collapsed_sections": [],
      "authorship_tag": "ABX9TyPOT4LzXtZn6yvhS1V5JFwp",
      "include_colab_link": true
    },
    "kernelspec": {
      "name": "python3",
      "display_name": "Python 3"
    },
    "language_info": {
      "name": "python"
    }
  },
  "cells": [
    {
      "cell_type": "markdown",
      "metadata": {
        "id": "view-in-github",
        "colab_type": "text"
      },
      "source": [
        "<a href=\"https://colab.research.google.com/github/Evaggelou/Arvato-Project-/blob/main/LightGBM.ipynb\" target=\"_parent\"><img src=\"https://colab.research.google.com/assets/colab-badge.svg\" alt=\"Open In Colab\"/></a>"
      ]
    },
    {
      "cell_type": "code",
      "metadata": {
        "colab": {
          "base_uri": "https://localhost:8080/"
        },
        "id": "m_g0T4yd92PF",
        "outputId": "949dbf64-a0b8-45c7-ba42-841b1c1d3c77"
      },
      "source": [
        "# Load the Drive helper and mount\n",
        "from google.colab import drive\n",
        "drive.mount('/content/drive')"
      ],
      "execution_count": 2,
      "outputs": [
        {
          "output_type": "stream",
          "text": [
            "Mounted at /content/drive\n"
          ],
          "name": "stdout"
        }
      ]
    },
    {
      "cell_type": "code",
      "metadata": {
        "id": "AlA82Pxg9hEH"
      },
      "source": [
        "import pickle\n",
        "# load pickle objects\n",
        "X_train = pickle.load(open(\"/content/drive/MyDrive/Udacity/Arvato/X.pickle\", \"rb\"))\n",
        "y_train = pickle.load(open(\"/content/drive/MyDrive/Udacity/Arvato/y.pickle\", \"rb\"))"
      ],
      "execution_count": 3,
      "outputs": []
    },
    {
      "cell_type": "code",
      "metadata": {
        "id": "NhLgGbab9bHT"
      },
      "source": [
        "import lightgbm\n",
        "def lgb_classifier(num_boost_round, num_leaves, max_depth, \n",
        "                   lambda_l2, lambda_l1, min_child_samples, \n",
        "                   min_data_in_leaf):\n",
        "    params = {\"boosting_type\": 'gbdt',\n",
        "              \"objective\" : \"binary\",\n",
        "              \"metric\" : \"auc\", \n",
        "              \"is_unbalance\": True,\n",
        "              \"num_leaves\" : int(num_leaves),\n",
        "              \"max_depth\" : int(max_depth),\n",
        "              \"lambda_l2\" : lambda_l2,\n",
        "              \"lambda_l1\" : lambda_l1,\n",
        "              \"num_threads\" : 20,\n",
        "              \"min_child_samples\" : int(min_child_samples),\n",
        "              \"min_data_in_leaf\": int(min_data_in_leaf),\n",
        "              \"learning_rate\" : 0.01,\n",
        "              \"subsample_freq\" : 5,\n",
        "              \"bagging_seed\" : 42,\n",
        "              \"verbosity\" : -1,\n",
        "              \"num_boost_round\": int(num_boost_round)}\n",
        "    train_data = lightgbm.Dataset(X_train, y_train)\n",
        "    cv_result = lightgbm.cv(params,\n",
        "                       train_data,\n",
        "                       1000,\n",
        "                       early_stopping_rounds=100,\n",
        "                       stratified=True,\n",
        "                       nfold=5)\n",
        "    return cv_result['auc-mean'][-1]"
      ],
      "execution_count": 12,
      "outputs": []
    },
    {
      "cell_type": "code",
      "metadata": {
        "colab": {
          "base_uri": "https://localhost:8080/"
        },
        "id": "elTow7x9-i-C",
        "outputId": "a1c8ad77-5adf-4ef1-bcf6-bab8de91581c"
      },
      "source": [
        "!pip install bayesian-optimization"
      ],
      "execution_count": 9,
      "outputs": [
        {
          "output_type": "stream",
          "text": [
            "Collecting bayesian-optimization\n",
            "  Downloading https://files.pythonhosted.org/packages/bb/7a/fd8059a3881d3ab37ac8f72f56b73937a14e8bb14a9733e68cc8b17dbe3c/bayesian-optimization-1.2.0.tar.gz\n",
            "Requirement already satisfied: numpy>=1.9.0 in /usr/local/lib/python3.7/dist-packages (from bayesian-optimization) (1.19.5)\n",
            "Requirement already satisfied: scipy>=0.14.0 in /usr/local/lib/python3.7/dist-packages (from bayesian-optimization) (1.4.1)\n",
            "Requirement already satisfied: scikit-learn>=0.18.0 in /usr/local/lib/python3.7/dist-packages (from bayesian-optimization) (0.22.2.post1)\n",
            "Requirement already satisfied: joblib>=0.11 in /usr/local/lib/python3.7/dist-packages (from scikit-learn>=0.18.0->bayesian-optimization) (1.0.1)\n",
            "Building wheels for collected packages: bayesian-optimization\n",
            "  Building wheel for bayesian-optimization (setup.py) ... \u001b[?25l\u001b[?25hdone\n",
            "  Created wheel for bayesian-optimization: filename=bayesian_optimization-1.2.0-cp37-none-any.whl size=11687 sha256=73075bbc18c29edc74b03aa4f13a068791681c42672a10dc57cabf3cbca1a9e8\n",
            "  Stored in directory: /root/.cache/pip/wheels/5a/56/ae/e0e3c1fc1954dc3ec712e2df547235ed072b448094d8f94aec\n",
            "Successfully built bayesian-optimization\n",
            "Installing collected packages: bayesian-optimization\n",
            "Successfully installed bayesian-optimization-1.2.0\n"
          ],
          "name": "stdout"
        }
      ]
    },
    {
      "cell_type": "code",
      "metadata": {
        "colab": {
          "base_uri": "https://localhost:8080/"
        },
        "id": "z-uIYrte9f0o",
        "outputId": "9009113e-cba0-49b9-9540-4c8b0bdf6e04"
      },
      "source": [
        "from bayes_opt import BayesianOptimization\n",
        "lgbBO = BayesianOptimization(lgb_classifier, {  'num_boost_round': (100, 1000),\n",
        "                                                'num_leaves': (25, 4000),\n",
        "                                                'max_depth': (5, 40),\n",
        "                                                'lambda_l2': (0.0, 0.1),\n",
        "                                                'lambda_l1': (0.0, 0.1),\n",
        "                                                'min_child_samples': (50, 10000),\n",
        "                                                'min_data_in_leaf': (100, 2000)\n",
        "                                                })\n",
        "\n",
        "lgbBO.maximize(n_iter=15, init_points=2)"
      ],
      "execution_count": 13,
      "outputs": [
        {
          "output_type": "stream",
          "text": [
            "|   iter    |  target   | lambda_l1 | lambda_l2 | max_depth | min_ch... | min_da... | num_bo... | num_le... |\n",
            "-------------------------------------------------------------------------------------------------------------\n"
          ],
          "name": "stdout"
        },
        {
          "output_type": "stream",
          "text": [
            "/usr/local/lib/python3.7/dist-packages/lightgbm/engine.py:430: UserWarning: Found `num_boost_round` in params. Will use it instead of argument\n",
            "  warnings.warn(\"Found `{}` in params. Will use it instead of argument\".format(alias))\n"
          ],
          "name": "stderr"
        },
        {
          "output_type": "stream",
          "text": [
            "| \u001b[0m 1       \u001b[0m | \u001b[0m 0.7671  \u001b[0m | \u001b[0m 0.06064 \u001b[0m | \u001b[0m 0.0356  \u001b[0m | \u001b[0m 36.41   \u001b[0m | \u001b[0m 6.498e+0\u001b[0m | \u001b[0m 1.382e+0\u001b[0m | \u001b[0m 383.5   \u001b[0m | \u001b[0m 1.839e+0\u001b[0m |\n"
          ],
          "name": "stdout"
        },
        {
          "output_type": "stream",
          "text": [
            "/usr/local/lib/python3.7/dist-packages/lightgbm/engine.py:430: UserWarning: Found `num_boost_round` in params. Will use it instead of argument\n",
            "  warnings.warn(\"Found `{}` in params. Will use it instead of argument\".format(alias))\n"
          ],
          "name": "stderr"
        },
        {
          "output_type": "stream",
          "text": [
            "| \u001b[95m 2       \u001b[0m | \u001b[95m 0.7696  \u001b[0m | \u001b[95m 0.0297  \u001b[0m | \u001b[95m 0.09881 \u001b[0m | \u001b[95m 35.82   \u001b[0m | \u001b[95m 6.052e+0\u001b[0m | \u001b[95m 1.953e+0\u001b[0m | \u001b[95m 928.7   \u001b[0m | \u001b[95m 3.479e+0\u001b[0m |\n"
          ],
          "name": "stdout"
        },
        {
          "output_type": "stream",
          "text": [
            "/usr/local/lib/python3.7/dist-packages/lightgbm/engine.py:430: UserWarning: Found `num_boost_round` in params. Will use it instead of argument\n",
            "  warnings.warn(\"Found `{}` in params. Will use it instead of argument\".format(alias))\n"
          ],
          "name": "stderr"
        },
        {
          "output_type": "stream",
          "text": [
            "| \u001b[0m 3       \u001b[0m | \u001b[0m 0.7346  \u001b[0m | \u001b[0m 0.03889 \u001b[0m | \u001b[0m 0.05171 \u001b[0m | \u001b[0m 32.9    \u001b[0m | \u001b[0m 56.22   \u001b[0m | \u001b[0m 226.0   \u001b[0m | \u001b[0m 957.0   \u001b[0m | \u001b[0m 164.0   \u001b[0m |\n"
          ],
          "name": "stdout"
        },
        {
          "output_type": "stream",
          "text": [
            "/usr/local/lib/python3.7/dist-packages/lightgbm/engine.py:430: UserWarning: Found `num_boost_round` in params. Will use it instead of argument\n",
            "  warnings.warn(\"Found `{}` in params. Will use it instead of argument\".format(alias))\n"
          ],
          "name": "stderr"
        },
        {
          "output_type": "stream",
          "text": [
            "| \u001b[0m 4       \u001b[0m | \u001b[0m 0.7333  \u001b[0m | \u001b[0m 0.07795 \u001b[0m | \u001b[0m 0.09271 \u001b[0m | \u001b[0m 36.61   \u001b[0m | \u001b[0m 3.672e+0\u001b[0m | \u001b[0m 217.4   \u001b[0m | \u001b[0m 766.9   \u001b[0m | \u001b[0m 3.055e+0\u001b[0m |\n"
          ],
          "name": "stdout"
        },
        {
          "output_type": "stream",
          "text": [
            "/usr/local/lib/python3.7/dist-packages/lightgbm/engine.py:430: UserWarning: Found `num_boost_round` in params. Will use it instead of argument\n",
            "  warnings.warn(\"Found `{}` in params. Will use it instead of argument\".format(alias))\n"
          ],
          "name": "stderr"
        },
        {
          "output_type": "stream",
          "text": [
            "| \u001b[95m 5       \u001b[0m | \u001b[95m 0.7712  \u001b[0m | \u001b[95m 0.0827  \u001b[0m | \u001b[95m 0.05612 \u001b[0m | \u001b[95m 13.02   \u001b[0m | \u001b[95m 9.724e+0\u001b[0m | \u001b[95m 1.878e+0\u001b[0m | \u001b[95m 1e+03   \u001b[0m | \u001b[95m 130.8   \u001b[0m |\n"
          ],
          "name": "stdout"
        },
        {
          "output_type": "stream",
          "text": [
            "/usr/local/lib/python3.7/dist-packages/lightgbm/engine.py:430: UserWarning: Found `num_boost_round` in params. Will use it instead of argument\n",
            "  warnings.warn(\"Found `{}` in params. Will use it instead of argument\".format(alias))\n"
          ],
          "name": "stderr"
        },
        {
          "output_type": "stream",
          "text": [
            "| \u001b[0m 6       \u001b[0m | \u001b[0m 0.7702  \u001b[0m | \u001b[0m 0.01282 \u001b[0m | \u001b[0m 0.002606\u001b[0m | \u001b[0m 30.62   \u001b[0m | \u001b[0m 101.6   \u001b[0m | \u001b[0m 1.797e+0\u001b[0m | \u001b[0m 107.1   \u001b[0m | \u001b[0m 3.749e+0\u001b[0m |\n"
          ],
          "name": "stdout"
        },
        {
          "output_type": "stream",
          "text": [
            "/usr/local/lib/python3.7/dist-packages/lightgbm/engine.py:430: UserWarning: Found `num_boost_round` in params. Will use it instead of argument\n",
            "  warnings.warn(\"Found `{}` in params. Will use it instead of argument\".format(alias))\n"
          ],
          "name": "stderr"
        },
        {
          "output_type": "stream",
          "text": [
            "| \u001b[0m 7       \u001b[0m | \u001b[0m 0.7698  \u001b[0m | \u001b[0m 0.09928 \u001b[0m | \u001b[0m 0.08973 \u001b[0m | \u001b[0m 19.57   \u001b[0m | \u001b[0m 8.183e+0\u001b[0m | \u001b[0m 1.628e+0\u001b[0m | \u001b[0m 897.7   \u001b[0m | \u001b[0m 1.071e+0\u001b[0m |\n"
          ],
          "name": "stdout"
        },
        {
          "output_type": "stream",
          "text": [
            "/usr/local/lib/python3.7/dist-packages/lightgbm/engine.py:430: UserWarning: Found `num_boost_round` in params. Will use it instead of argument\n",
            "  warnings.warn(\"Found `{}` in params. Will use it instead of argument\".format(alias))\n"
          ],
          "name": "stderr"
        },
        {
          "output_type": "stream",
          "text": [
            "| \u001b[0m 8       \u001b[0m | \u001b[0m 0.769   \u001b[0m | \u001b[0m 0.02582 \u001b[0m | \u001b[0m 0.05109 \u001b[0m | \u001b[0m 30.09   \u001b[0m | \u001b[0m 9.931e+0\u001b[0m | \u001b[0m 1.97e+03\u001b[0m | \u001b[0m 179.1   \u001b[0m | \u001b[0m 3.769e+0\u001b[0m |\n"
          ],
          "name": "stdout"
        },
        {
          "output_type": "stream",
          "text": [
            "/usr/local/lib/python3.7/dist-packages/lightgbm/engine.py:430: UserWarning: Found `num_boost_round` in params. Will use it instead of argument\n",
            "  warnings.warn(\"Found `{}` in params. Will use it instead of argument\".format(alias))\n"
          ],
          "name": "stderr"
        },
        {
          "output_type": "stream",
          "text": [
            "| \u001b[0m 9       \u001b[0m | \u001b[0m 0.7692  \u001b[0m | \u001b[0m 0.02294 \u001b[0m | \u001b[0m 0.04763 \u001b[0m | \u001b[0m 27.29   \u001b[0m | \u001b[0m 3.107e+0\u001b[0m | \u001b[0m 1.938e+0\u001b[0m | \u001b[0m 119.7   \u001b[0m | \u001b[0m 86.82   \u001b[0m |\n"
          ],
          "name": "stdout"
        },
        {
          "output_type": "stream",
          "text": [
            "/usr/local/lib/python3.7/dist-packages/lightgbm/engine.py:430: UserWarning: Found `num_boost_round` in params. Will use it instead of argument\n",
            "  warnings.warn(\"Found `{}` in params. Will use it instead of argument\".format(alias))\n"
          ],
          "name": "stderr"
        },
        {
          "output_type": "stream",
          "text": [
            "| \u001b[0m 10      \u001b[0m | \u001b[0m 0.7695  \u001b[0m | \u001b[0m 0.09406 \u001b[0m | \u001b[0m 0.0878  \u001b[0m | \u001b[0m 31.71   \u001b[0m | \u001b[0m 8.246e+0\u001b[0m | \u001b[0m 1.94e+03\u001b[0m | \u001b[0m 180.2   \u001b[0m | \u001b[0m 520.7   \u001b[0m |\n"
          ],
          "name": "stdout"
        },
        {
          "output_type": "stream",
          "text": [
            "/usr/local/lib/python3.7/dist-packages/lightgbm/engine.py:430: UserWarning: Found `num_boost_round` in params. Will use it instead of argument\n",
            "  warnings.warn(\"Found `{}` in params. Will use it instead of argument\".format(alias))\n"
          ],
          "name": "stderr"
        },
        {
          "output_type": "stream",
          "text": [
            "| \u001b[0m 11      \u001b[0m | \u001b[0m 0.7701  \u001b[0m | \u001b[0m 0.06075 \u001b[0m | \u001b[0m 0.01262 \u001b[0m | \u001b[0m 24.13   \u001b[0m | \u001b[0m 201.7   \u001b[0m | \u001b[0m 1.987e+0\u001b[0m | \u001b[0m 791.4   \u001b[0m | \u001b[0m 862.8   \u001b[0m |\n"
          ],
          "name": "stdout"
        },
        {
          "output_type": "stream",
          "text": [
            "/usr/local/lib/python3.7/dist-packages/lightgbm/engine.py:430: UserWarning: Found `num_boost_round` in params. Will use it instead of argument\n",
            "  warnings.warn(\"Found `{}` in params. Will use it instead of argument\".format(alias))\n"
          ],
          "name": "stderr"
        },
        {
          "output_type": "stream",
          "text": [
            "| \u001b[0m 12      \u001b[0m | \u001b[0m 0.768   \u001b[0m | \u001b[0m 0.008743\u001b[0m | \u001b[0m 0.04215 \u001b[0m | \u001b[0m 7.612   \u001b[0m | \u001b[0m 8.561e+0\u001b[0m | \u001b[0m 1.423e+0\u001b[0m | \u001b[0m 375.1   \u001b[0m | \u001b[0m 921.9   \u001b[0m |\n"
          ],
          "name": "stdout"
        },
        {
          "output_type": "stream",
          "text": [
            "/usr/local/lib/python3.7/dist-packages/lightgbm/engine.py:430: UserWarning: Found `num_boost_round` in params. Will use it instead of argument\n",
            "  warnings.warn(\"Found `{}` in params. Will use it instead of argument\".format(alias))\n"
          ],
          "name": "stderr"
        },
        {
          "output_type": "stream",
          "text": [
            "| \u001b[0m 13      \u001b[0m | \u001b[0m 0.7705  \u001b[0m | \u001b[0m 0.06208 \u001b[0m | \u001b[0m 0.01775 \u001b[0m | \u001b[0m 23.23   \u001b[0m | \u001b[0m 704.2   \u001b[0m | \u001b[0m 1.998e+0\u001b[0m | \u001b[0m 138.9   \u001b[0m | \u001b[0m 1.171e+0\u001b[0m |\n"
          ],
          "name": "stdout"
        },
        {
          "output_type": "stream",
          "text": [
            "/usr/local/lib/python3.7/dist-packages/lightgbm/engine.py:430: UserWarning: Found `num_boost_round` in params. Will use it instead of argument\n",
            "  warnings.warn(\"Found `{}` in params. Will use it instead of argument\".format(alias))\n"
          ],
          "name": "stderr"
        },
        {
          "output_type": "stream",
          "text": [
            "| \u001b[0m 14      \u001b[0m | \u001b[0m 0.7443  \u001b[0m | \u001b[0m 0.07929 \u001b[0m | \u001b[0m 0.00714 \u001b[0m | \u001b[0m 35.43   \u001b[0m | \u001b[0m 9.938e+0\u001b[0m | \u001b[0m 229.4   \u001b[0m | \u001b[0m 884.3   \u001b[0m | \u001b[0m 291.9   \u001b[0m |\n"
          ],
          "name": "stdout"
        },
        {
          "output_type": "stream",
          "text": [
            "/usr/local/lib/python3.7/dist-packages/lightgbm/engine.py:430: UserWarning: Found `num_boost_round` in params. Will use it instead of argument\n",
            "  warnings.warn(\"Found `{}` in params. Will use it instead of argument\".format(alias))\n",
            "/usr/local/lib/python3.7/dist-packages/lightgbm/engine.py:430: UserWarning: Found `num_boost_round` in params. Will use it instead of argument\n",
            "  warnings.warn(\"Found `{}` in params. Will use it instead of argument\".format(alias))\n"
          ],
          "name": "stderr"
        },
        {
          "output_type": "stream",
          "text": [
            "| \u001b[0m 16      \u001b[0m | \u001b[0m 0.7416  \u001b[0m | \u001b[0m 0.02624 \u001b[0m | \u001b[0m 0.03852 \u001b[0m | \u001b[0m 38.2    \u001b[0m | \u001b[0m 2.541e+0\u001b[0m | \u001b[0m 262.2   \u001b[0m | \u001b[0m 814.6   \u001b[0m | \u001b[0m 3.47e+03\u001b[0m |\n"
          ],
          "name": "stdout"
        },
        {
          "output_type": "stream",
          "text": [
            "/usr/local/lib/python3.7/dist-packages/lightgbm/engine.py:430: UserWarning: Found `num_boost_round` in params. Will use it instead of argument\n",
            "  warnings.warn(\"Found `{}` in params. Will use it instead of argument\".format(alias))\n"
          ],
          "name": "stderr"
        },
        {
          "output_type": "stream",
          "text": [
            "| \u001b[0m 17      \u001b[0m | \u001b[0m 0.7465  \u001b[0m | \u001b[0m 0.03986 \u001b[0m | \u001b[0m 0.0344  \u001b[0m | \u001b[0m 23.27   \u001b[0m | \u001b[0m 6.568e+0\u001b[0m | \u001b[0m 335.9   \u001b[0m | \u001b[0m 134.8   \u001b[0m | \u001b[0m 691.2   \u001b[0m |\n",
            "=============================================================================================================\n"
          ],
          "name": "stdout"
        }
      ]
    },
    {
      "cell_type": "code",
      "metadata": {
        "colab": {
          "base_uri": "https://localhost:8080/"
        },
        "id": "5ZB-m1dcCmPn",
        "outputId": "973a86cf-6c05-4d4d-cb75-cea011e6b881"
      },
      "source": [
        "print(lgbBO.max)"
      ],
      "execution_count": 14,
      "outputs": [
        {
          "output_type": "stream",
          "text": [
            "{'target': 0.7711933859093403, 'params': {'lambda_l1': 0.08270334412510266, 'lambda_l2': 0.056121209736232885, 'max_depth': 13.01933569495594, 'min_child_samples': 9723.847119479511, 'min_data_in_leaf': 1877.6516852617149, 'num_boost_round': 999.9896216718239, 'num_leaves': 130.83431099846865}}\n"
          ],
          "name": "stdout"
        }
      ]
    }
  ]
}