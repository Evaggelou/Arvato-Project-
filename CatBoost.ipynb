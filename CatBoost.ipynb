{
  "nbformat": 4,
  "nbformat_minor": 0,
  "metadata": {
    "colab": {
      "name": "CatBoost.ipynb",
      "provenance": [],
      "authorship_tag": "ABX9TyOQM39iHnhb8zEynOwvZUYP",
      "include_colab_link": true
    },
    "kernelspec": {
      "name": "python3",
      "display_name": "Python 3"
    },
    "language_info": {
      "name": "python"
    }
  },
  "cells": [
    {
      "cell_type": "markdown",
      "metadata": {
        "id": "view-in-github",
        "colab_type": "text"
      },
      "source": [
        "<a href=\"https://colab.research.google.com/github/Evaggelou/Arvato-Project-/blob/main/CatBoost.ipynb\" target=\"_parent\"><img src=\"https://colab.research.google.com/assets/colab-badge.svg\" alt=\"Open In Colab\"/></a>"
      ]
    },
    {
      "cell_type": "code",
      "metadata": {
        "colab": {
          "base_uri": "https://localhost:8080/"
        },
        "id": "pPBwUxqd_QTj",
        "outputId": "16f179f4-6e6a-4e5a-cef0-aa50b0290029"
      },
      "source": [
        "# Load the Drive helper and mount\n",
        "from google.colab import drive\n",
        "drive.mount('/content/drive')"
      ],
      "execution_count": 1,
      "outputs": [
        {
          "output_type": "stream",
          "text": [
            "Mounted at /content/drive\n"
          ],
          "name": "stdout"
        }
      ]
    },
    {
      "cell_type": "code",
      "metadata": {
        "id": "3whIo0ZJ_Q22"
      },
      "source": [
        "import pickle\n",
        "# load pickle objects\n",
        "X_train = pickle.load(open(\"/content/drive/MyDrive/Udacity/Arvato/X.pickle\", \"rb\"))\n",
        "y_train = pickle.load(open(\"/content/drive/MyDrive/Udacity/Arvato/y.pickle\", \"rb\"))"
      ],
      "execution_count": 2,
      "outputs": []
    },
    {
      "cell_type": "code",
      "metadata": {
        "colab": {
          "base_uri": "https://localhost:8080/"
        },
        "id": "6GbmiaB8_qlV",
        "outputId": "b3bd14d7-561f-4ec8-b41d-6559254d48eb"
      },
      "source": [
        "!pip install catboost"
      ],
      "execution_count": 4,
      "outputs": [
        {
          "output_type": "stream",
          "text": [
            "Collecting catboost\n",
            "\u001b[?25l  Downloading https://files.pythonhosted.org/packages/1e/21/d1718eb4c93d6bacdd540b3792187f32ccb1ad9c51b9c4f10875d63ec176/catboost-0.25-cp37-none-manylinux1_x86_64.whl (67.3MB)\n",
            "\u001b[K     |████████████████████████████████| 67.3MB 93kB/s \n",
            "\u001b[?25hRequirement already satisfied: numpy>=1.16.0 in /usr/local/lib/python3.7/dist-packages (from catboost) (1.19.5)\n",
            "Requirement already satisfied: plotly in /usr/local/lib/python3.7/dist-packages (from catboost) (4.4.1)\n",
            "Requirement already satisfied: pandas>=0.24.0 in /usr/local/lib/python3.7/dist-packages (from catboost) (1.1.5)\n",
            "Requirement already satisfied: scipy in /usr/local/lib/python3.7/dist-packages (from catboost) (1.4.1)\n",
            "Requirement already satisfied: matplotlib in /usr/local/lib/python3.7/dist-packages (from catboost) (3.2.2)\n",
            "Requirement already satisfied: graphviz in /usr/local/lib/python3.7/dist-packages (from catboost) (0.10.1)\n",
            "Requirement already satisfied: six in /usr/local/lib/python3.7/dist-packages (from catboost) (1.15.0)\n",
            "Requirement already satisfied: retrying>=1.3.3 in /usr/local/lib/python3.7/dist-packages (from plotly->catboost) (1.3.3)\n",
            "Requirement already satisfied: pytz>=2017.2 in /usr/local/lib/python3.7/dist-packages (from pandas>=0.24.0->catboost) (2018.9)\n",
            "Requirement already satisfied: python-dateutil>=2.7.3 in /usr/local/lib/python3.7/dist-packages (from pandas>=0.24.0->catboost) (2.8.1)\n",
            "Requirement already satisfied: kiwisolver>=1.0.1 in /usr/local/lib/python3.7/dist-packages (from matplotlib->catboost) (1.3.1)\n",
            "Requirement already satisfied: cycler>=0.10 in /usr/local/lib/python3.7/dist-packages (from matplotlib->catboost) (0.10.0)\n",
            "Requirement already satisfied: pyparsing!=2.0.4,!=2.1.2,!=2.1.6,>=2.0.1 in /usr/local/lib/python3.7/dist-packages (from matplotlib->catboost) (2.4.7)\n",
            "Installing collected packages: catboost\n",
            "Successfully installed catboost-0.25\n"
          ],
          "name": "stdout"
        }
      ]
    },
    {
      "cell_type": "code",
      "metadata": {
        "id": "JZq8RAwn_H4c"
      },
      "source": [
        "import catboost\n",
        "\n",
        "def catboost_classifier(depth, l2_leaf_reg, num_boost_round):\n",
        "    params = {\n",
        "        \"loss_function\": \"Logloss\",\n",
        "        \"eval_metric\" : \"AUC\", \n",
        "        \"depth\" : int(depth),\n",
        "        \"l2_leaf_reg\" : int(l2_leaf_reg),\n",
        "        \"learning_rate\" : 0.01,\n",
        "        \"random_state\" : 42,\n",
        "        \"logging_level\" : \"Silent\",\n",
        "        \"thread_count\": 24,\n",
        "        \"num_boost_round\": int(num_boost_round)\n",
        "    }\n",
        "    train_data = catboost.Pool(data=X_train, label=y_train)\n",
        "    cv_result = catboost.cv(train_data,\n",
        "                       params,\n",
        "                       early_stopping_rounds=100,\n",
        "                       stratified=True,\n",
        "                       nfold=5)\n",
        "    return cv_result['test-AUC-mean'].iloc[-1]"
      ],
      "execution_count": 5,
      "outputs": []
    },
    {
      "cell_type": "code",
      "metadata": {
        "colab": {
          "base_uri": "https://localhost:8080/"
        },
        "id": "C7lbmGA8_Tm-",
        "outputId": "c3c69d67-1720-42a6-ac01-fdab615f1691"
      },
      "source": [
        "!pip install bayesian-optimization"
      ],
      "execution_count": 6,
      "outputs": [
        {
          "output_type": "stream",
          "text": [
            "Collecting bayesian-optimization\n",
            "  Downloading https://files.pythonhosted.org/packages/bb/7a/fd8059a3881d3ab37ac8f72f56b73937a14e8bb14a9733e68cc8b17dbe3c/bayesian-optimization-1.2.0.tar.gz\n",
            "Requirement already satisfied: numpy>=1.9.0 in /usr/local/lib/python3.7/dist-packages (from bayesian-optimization) (1.19.5)\n",
            "Requirement already satisfied: scipy>=0.14.0 in /usr/local/lib/python3.7/dist-packages (from bayesian-optimization) (1.4.1)\n",
            "Requirement already satisfied: scikit-learn>=0.18.0 in /usr/local/lib/python3.7/dist-packages (from bayesian-optimization) (0.22.2.post1)\n",
            "Requirement already satisfied: joblib>=0.11 in /usr/local/lib/python3.7/dist-packages (from scikit-learn>=0.18.0->bayesian-optimization) (1.0.1)\n",
            "Building wheels for collected packages: bayesian-optimization\n",
            "  Building wheel for bayesian-optimization (setup.py) ... \u001b[?25l\u001b[?25hdone\n",
            "  Created wheel for bayesian-optimization: filename=bayesian_optimization-1.2.0-cp37-none-any.whl size=11687 sha256=0caef80bdbf9b1c807a9fb5c297132eaa3d3fde160b0ad647f327aa28f75c88c\n",
            "  Stored in directory: /root/.cache/pip/wheels/5a/56/ae/e0e3c1fc1954dc3ec712e2df547235ed072b448094d8f94aec\n",
            "Successfully built bayesian-optimization\n",
            "Installing collected packages: bayesian-optimization\n",
            "Successfully installed bayesian-optimization-1.2.0\n"
          ],
          "name": "stdout"
        }
      ]
    },
    {
      "cell_type": "code",
      "metadata": {
        "colab": {
          "base_uri": "https://localhost:8080/"
        },
        "id": "eqyPot6l_YTv",
        "outputId": "4b08916e-7b95-41be-bd39-d8b2928a7347"
      },
      "source": [
        "from bayes_opt import BayesianOptimization\n",
        "catboostBO = BayesianOptimization(catboost_classifier, {\n",
        "                                                'depth': (1, 4),\n",
        "                                                'l2_leaf_reg': (2, 30),\n",
        "                                                'num_boost_round': (100, 1000),\n",
        "                                                })\n",
        "\n",
        "catboostBO.maximize(n_iter=10, init_points=2)"
      ],
      "execution_count": 8,
      "outputs": [
        {
          "output_type": "stream",
          "text": [
            "|   iter    |  target   |   depth   | l2_lea... | num_bo... |\n",
            "-------------------------------------------------------------\n",
            "| \u001b[0m 1       \u001b[0m | \u001b[0m 0.7747  \u001b[0m | \u001b[0m 3.139   \u001b[0m | \u001b[0m 26.17   \u001b[0m | \u001b[0m 948.0   \u001b[0m |\n",
            "| \u001b[0m 2       \u001b[0m | \u001b[0m 0.7689  \u001b[0m | \u001b[0m 2.718   \u001b[0m | \u001b[0m 17.05   \u001b[0m | \u001b[0m 948.9   \u001b[0m |\n",
            "| \u001b[0m 3       \u001b[0m | \u001b[0m 0.6517  \u001b[0m | \u001b[0m 2.259   \u001b[0m | \u001b[0m 29.95   \u001b[0m | \u001b[0m 100.1   \u001b[0m |\n",
            "| \u001b[0m 4       \u001b[0m | \u001b[0m 0.7559  \u001b[0m | \u001b[0m 1.398   \u001b[0m | \u001b[0m 29.99   \u001b[0m | \u001b[0m 639.3   \u001b[0m |\n",
            "| \u001b[0m 5       \u001b[0m | \u001b[0m 0.7692  \u001b[0m | \u001b[0m 2.836   \u001b[0m | \u001b[0m 29.43   \u001b[0m | \u001b[0m 999.6   \u001b[0m |\n",
            "| \u001b[0m 6       \u001b[0m | \u001b[0m 0.7741  \u001b[0m | \u001b[0m 3.973   \u001b[0m | \u001b[0m 29.91   \u001b[0m | \u001b[0m 835.9   \u001b[0m |\n",
            "| \u001b[0m 7       \u001b[0m | \u001b[0m 0.7579  \u001b[0m | \u001b[0m 1.044   \u001b[0m | \u001b[0m 29.95   \u001b[0m | \u001b[0m 887.9   \u001b[0m |\n",
            "| \u001b[0m 8       \u001b[0m | \u001b[0m 0.7747  \u001b[0m | \u001b[0m 3.201   \u001b[0m | \u001b[0m 26.04   \u001b[0m | \u001b[0m 944.3   \u001b[0m |\n",
            "| \u001b[0m 9       \u001b[0m | \u001b[0m 0.7713  \u001b[0m | \u001b[0m 3.263   \u001b[0m | \u001b[0m 2.722   \u001b[0m | \u001b[0m 339.5   \u001b[0m |\n",
            "| \u001b[0m 10      \u001b[0m | \u001b[0m 0.7733  \u001b[0m | \u001b[0m 3.981   \u001b[0m | \u001b[0m 29.89   \u001b[0m | \u001b[0m 436.7   \u001b[0m |\n",
            "| \u001b[0m 11      \u001b[0m | \u001b[0m 0.7712  \u001b[0m | \u001b[0m 3.647   \u001b[0m | \u001b[0m 29.5    \u001b[0m | \u001b[0m 277.9   \u001b[0m |\n",
            "| \u001b[0m 12      \u001b[0m | \u001b[0m 0.7733  \u001b[0m | \u001b[0m 3.766   \u001b[0m | \u001b[0m 2.779   \u001b[0m | \u001b[0m 729.6   \u001b[0m |\n",
            "=============================================================\n"
          ],
          "name": "stdout"
        }
      ]
    },
    {
      "cell_type": "code",
      "metadata": {
        "colab": {
          "base_uri": "https://localhost:8080/"
        },
        "id": "kdrJs2QECipy",
        "outputId": "8393157d-8846-4ced-a31d-92e1e90be2ef"
      },
      "source": [
        "print(catboostBO.max)"
      ],
      "execution_count": 9,
      "outputs": [
        {
          "output_type": "stream",
          "text": [
            "{'target': 0.7747329093240714, 'params': {'depth': 3.1386012415294946, 'l2_leaf_reg': 26.169421579838826, 'num_boost_round': 947.9752915393171}}\n"
          ],
          "name": "stdout"
        }
      ]
    }
  ]
}